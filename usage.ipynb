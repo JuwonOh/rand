{
 "cells": [
  {
   "cell_type": "code",
   "execution_count": 1,
   "metadata": {},
   "outputs": [],
   "source": [
    "import time\n",
    "import rand_scraper"
   ]
  },
  {
   "cell_type": "code",
   "execution_count": 2,
   "metadata": {
    "scrolled": true
   },
   "outputs": [
    {
     "name": "stdout",
     "output_type": "stream",
     "text": [
      "24 report_urls for all report\n"
     ]
    }
   ],
   "source": [
    "from rand_scraper import get_report_urls\n",
    "report_urls = get_report_urls(begin_page=1, end_page=1, verbose=True)\n",
    "print('%d report_urls for all report' % len(report_urls))"
   ]
  },
  {
   "cell_type": "code",
   "execution_count": 3,
   "metadata": {},
   "outputs": [
    {
     "name": "stdout",
     "output_type": "stream",
     "text": [
      "439 report_urls for all report\n"
     ]
    }
   ],
   "source": [
    "from rand_scraper import get_blog_urls\n",
    "blog_urls = get_blog_urls(verbose=True)\n",
    "print('%d report_urls for all report' % len(blog_urls))"
   ]
  },
  {
   "cell_type": "code",
   "execution_count": 4,
   "metadata": {
    "scrolled": true
   },
   "outputs": [
    {
     "name": "stdout",
     "output_type": "stream",
     "text": [
      "url : https://www.rand.org/pubs/research_briefs/RB10030.html ..\n",
      "title : Building an Effective and Practical National Approach to Terrorism Prevention ..\n",
      "date : 20190214 ..\n",
      "author : by Brian A. Jackson, Ashley L. Rhoades, Jordan R. Reimer, Natasha Lander, Katherine Costello, Sina B ..\n",
      "abstract : \n",
      "Research Brief\n",
      "Key Findings\n",
      "\n",
      "Researchers found major gaps in national terrorism prevention efforts: ..\n",
      "content_url : https://www.rand.org/content/dam/rand/pubs/research_briefs/RB10000/RB10030/RAND_RB10030.pdf ..\n",
      "\n",
      "\n",
      "url : https://www.rand.org/pubs/research_reports/RR2575z8.html ..\n",
      "title : Educator Access to and Use of Data Systems ..\n",
      "date : 20190214 ..\n",
      "author : by Tiffany Tsai, Katie Tosh ..\n",
      "abstract : \n",
      "\n",
      "Research Questions\n",
      "\n",
      "What kinds of data and supports did teachers have access to through the electr ..\n",
      "content_url : https://www.rand.org/content/dam/rand/pubs/research_reports/RR2500/RR2575z8/RAND_RR2575z8.pdf ..\n",
      "\n",
      "\n",
      "url : https://www.rand.org/blog/2019/02/opioids-and-a-crisis-of-unintended-consequences.html ..\n",
      "title : Opioids and a Crisis of Unintended Consequences ..\n",
      "date : February 20, 2019 ..\n",
      "author : by David Powell ..\n",
      "content : \n",
      "by David Powell\n",
      "It is well-known that misuse of the opioid OxyContin has ruined millions of lives,  ..\n",
      "blog_category : commentary ..\n",
      "\n",
      "\n",
      "url : https://www.rand.org/blog/2019/02/book-review-the-woman-who-smashed-codes-by-jason-fagone.html ..\n",
      "title : Book Review: 'The Woman Who Smashed Codes' by Jason Fagone ..\n",
      "date : February 19, 2019 ..\n",
      "author : by Cortney Weinbaum ..\n",
      "content : \n",
      "by Cortney Weinbaum\n",
      "How many hidden figures have existed throughout America's national security his ..\n",
      "blog_category : commentary ..\n",
      "\n",
      "\n",
      "url : https://www.rand.org/pubs/external_publications/EP67796.html ..\n",
      "title : Public Acceptability of Health and Social Care Funding Options ..\n",
      "date : 20190220 ..\n",
      "author : by Jon Sussex, Peter Burge, Hui Lu, Josephine Exley, Suzanne King ..\n",
      "abstract : \n",
      "\n",
      "The demand for health and social care in the UK is growing, as a result of an ageing population an ..\n",
      "content_url : external article ..\n",
      "\n",
      "\n",
      "url : https://www.rand.org/pubs/external_publications/EP67795.html ..\n",
      "title : Functional Limitations and Employment Among Disability Benefit Recipients with Musculoskeletal Condi ..\n",
      "date : 20190219 ..\n",
      "author : by Zachary A. Morris, Stephanie Rennane ..\n",
      "abstract : \n",
      "\n",
      "Background\n",
      "There is a growing interest among policymakers in improving the delivery of vocational  ..\n",
      "content_url : external article ..\n",
      "\n",
      "\n",
      "url : https://www.rand.org/pubs/research_reports/RR2833.html ..\n",
      "title : Science-Based Scenario Design ..\n",
      "date : 20190218 ..\n",
      "author : by Timothy R. Heath, Matthew Lane ..\n",
      "abstract : \n",
      "\n",
      "Research Questions\n",
      "\n",
      "How can nonmilitary factors be used in defense planning?What is the different  ..\n",
      "content_url : https://www.rand.org/content/dam/rand/pubs/research_reports/RR2800/RR2833/RAND_RR2833.pdf ..\n",
      "\n",
      "\n",
      "url : https://www.rand.org/pubs/research_reports/RR1796.html ..\n",
      "title : Assessing Retention and Special and Incentive Pays for Army and Navy Commissioned Officers in the Sp ..\n",
      "date : 20190218 ..\n",
      "author : by Beth J. Asch, Michael G. Mattock, James Hosek, Shanthi Nataraj ..\n",
      "abstract : \n",
      "\n",
      "Research Questions\n",
      "\n",
      "How can policymakers assess how alternative S&I pay adjustments affect the ret ..\n",
      "content_url : https://www.rand.org/content/dam/rand/pubs/research_reports/RR1700/RR1796/RAND_RR1796.pdf ..\n",
      "\n",
      "\n",
      "url : https://www.rand.org/pubs/external_publications/EP67794.html ..\n",
      "title : Market Power and Price Discrimination in the US Market for Higher Education ..\n",
      "date : 20190215 ..\n",
      "author : by Dennis N Epple, Richard Romano, Sinan Sarpca, Holger Sieg, Melanie A. Zaber ..\n",
      "abstract : \n",
      "\n",
      "We estimate an equilibrium model of private and state college competition that generates realistic ..\n",
      "content_url : external article ..\n",
      "\n",
      "\n",
      "url : https://www.rand.org/pubs/research_reports/RR1711.html ..\n",
      "title : Organising for excellence ..\n",
      "date : 20190215 ..\n",
      "author : by Molly Morgan Jones, Louise Lepetit, Joachim Krapels, Catherine A. Lichten, Anton Spisak, Catriona ..\n",
      "abstract : \n",
      "\n",
      "Research Question\n",
      "\n",
      "What is the international evidence on best practice in organisational design an ..\n",
      "content_url : https://www.rand.org/content/dam/rand/pubs/research_reports/RR1700/RR1711/RAND_RR1711.pdf ..\n",
      "\n",
      "\n",
      "url : https://www.rand.org/blog/2019/02/americas-national-defense-strategy-and-the-paradox.html ..\n",
      "title : America's National Defense Strategy and the Paradox of Technology ..\n",
      "date : February 4, 2019 ..\n",
      "author : by Chad C. Serena and Colin P. Clarke ..\n",
      "content : \n",
      "by Chad C. Serena and Colin P. Clarke\n",
      "The current national defense strategy emphasizes the role tec ..\n",
      "blog_category : commentary ..\n",
      "\n",
      "\n",
      "url : https://www.rand.org/blog/2019/02/developing-an-objective-repeatable-scoring-system-for.html ..\n",
      "title : Developing an Objective, Repeatable Scoring System for a Vulnerability Equities Process ..\n",
      "date : February 5, 2019 ..\n",
      "author : by Sasha Romanosky ..\n",
      "content : \n",
      "by Sasha Romanosky\n",
      "The public release of the Vulnerability Equities Process (VEP) charter (PDF) by  ..\n",
      "blog_category : commentary ..\n",
      "\n",
      "\n",
      "url : https://www.rand.org/blog/2019/02/choosing-the-right-social-and-emotional-learning-programs.html ..\n",
      "title : Choosing the Right Social and Emotional Learning Programs and Practices ..\n",
      "date : February 5, 2019 ..\n",
      "author : by Stephani L. Wrabel and Laura S. Hamilton ..\n",
      "content : \n",
      "by Stephani L. Wrabel and Laura S. Hamilton\n",
      "Educators have become increasingly interested in suppor ..\n",
      "blog_category : commentary ..\n",
      "\n",
      "\n",
      "url : https://www.rand.org/blog/2019/02/sotu-2019-insights-from-rand.html ..\n",
      "title : State of the Union 2019: Insights from RAND ..\n",
      "date : February 6, 2019 ..\n",
      "author : Raphael S. Cohen ..\n",
      "content : \n",
      "Much of last night's State of the Union speech, President Trump's second such address and his first ..\n",
      "blog_category : blog ..\n",
      "\n",
      "\n",
      "url : https://www.rand.org/blog/2019/02/how-to-make-roads-safer-for-autonomous-vehicles.html ..\n",
      "title : How to Make Roads Safer for Autonomous Vehicles ..\n",
      "date : February 6, 2019 ..\n",
      "author : by Laura Fraade-Blanar ..\n",
      "content : \n",
      "by Laura Fraade-Blanar\n",
      "No matter how much developers test AVs, the world will still present unfores ..\n",
      "blog_category : commentary ..\n",
      "\n",
      "\n",
      "url : https://www.rand.org/blog/2019/02/hard-to-predict-outcome-of-second-trump-kim-summit.html ..\n",
      "title : Hard to Predict Outcome of Second Trump-Kim Summit ..\n",
      "date : February 6, 2019 ..\n",
      "author : by Bruce W. Bennett ..\n",
      "content : \n",
      "by Bruce W. Bennett\n",
      "Denuclearization means reducing the nuclear weapons threat that a country poses ..\n",
      "blog_category : commentary ..\n",
      "\n",
      "\n",
      "url : https://www.rand.org/blog/2019/02/how-the-us-is-thinking-about-the-quad.html ..\n",
      "title : How the U.S. Is Thinking About the Quad ..\n",
      "date : February 7, 2019 ..\n",
      "author : by Derek Grossman ..\n",
      "content : \n",
      "by Derek Grossman\n",
      "Following the first meeting in November 2017 of the resurrected Quadrilateral Sec ..\n",
      "blog_category : commentary ..\n",
      "\n",
      "\n",
      "url : https://www.rand.org/blog/2019/02/how-horizon-scanning-can-give-the-military-a-technological.html ..\n",
      "title : How Horizon Scanning Can Give the Military a Technological Edge ..\n",
      "date : February 8, 2019 ..\n",
      "author : by Sarah Grand-Clement ..\n",
      "content : \n",
      "by Sarah Grand-Clement\n",
      "Keeping abreast of new developments and innovation plays a vital role in ens ..\n",
      "blog_category : commentary ..\n",
      "\n",
      "\n",
      "url : https://www.rand.org/blog/2019/02/the-islamic-republics-foreign-policy-at-forty.html ..\n",
      "title : The Islamic Republic's Foreign Policy at Forty ..\n",
      "date : February 8, 2019 ..\n",
      "author : by Ariane M. Tabatabai ..\n",
      "content : \n",
      "by Ariane M. Tabatabai\n",
      "Forty years have passed since disparate groups of revolutionaries—many of th ..\n",
      "blog_category : commentary ..\n",
      "\n",
      "\n",
      "url : https://www.rand.org/blog/2019/02/the-wall-is-not-the-only-answer.html ..\n",
      "title : The Wall Is Not the Only Answer ..\n",
      "date : February 8, 2019 ..\n",
      "author : by Blas Nunez-Neto ..\n",
      "content : \n",
      "by Blas Nunez-Neto\n",
      "The president and Congress have just days to negotiate an agreement over border  ..\n",
      "blog_category : commentary ..\n",
      "\n",
      "\n"
     ]
    }
   ],
   "source": [
    "from rand_scraper import parse_page\n",
    "def pprint(json_object):\n",
    "    for k, v in json_object.items():\n",
    "        print('{} : {} ..'.format(k, str(v)[:100]))\n",
    "    print('\\n')\n",
    "\n",
    "SLEEP = 0.5\n",
    "\n",
    "for url in report_urls[:10]:\n",
    "    rjson_object = parse_page(url)\n",
    "    pprint(rjson_object)\n",
    "\n",
    "for url in blog_urls[:10]:\n",
    "    rjson_object = parse_page(url)\n",
    "    pprint(rjson_object)"
   ]
  },
  {
   "cell_type": "code",
   "execution_count": 5,
   "metadata": {},
   "outputs": [
    {
     "name": "stdout",
     "output_type": "stream",
     "text": [
      "[1 / 10] (20190214) Building an Effective and Practical National Approach to Terrorism Prevention\n",
      "[2 / 10] (20190214) Educator Access to and Use of Data Systems\n",
      "[3 / 10] (February 20, 2019) Opioids and a Crisis of Unintended Consequences\n",
      "[4 / 10] (February 19, 2019) Book Review: 'The Woman Who Smashed Codes' by Jason Fagone\n",
      "[5 / 10] (20190220) Public Acceptability of Health and Social Care Funding Options\n",
      "[6 / 10] (20190219) Functional Limitations and Employment Among Disability Benefit Recipients with Musculoskeletal Conditions\n",
      "[7 / 10] (20190218) Science-Based Scenario Design\n",
      "[8 / 10] (20190218) Assessing Retention and Special and Incentive Pays for Army and Navy Commissioned Officers in the Special Operations Forces\n",
      "[9 / 10] (20190215) Market Power and Price Discrimination in the US Market for Higher Education\n",
      "[10 / 10] (20190215) Organising for excellence\n"
     ]
    }
   ],
   "source": [
    "from rand_scraper import yield_latest_report\n",
    "\n",
    "begin_date = '2018-12-01'\n",
    "max_num = 10\n",
    "sleep = 1.0\n",
    "\n",
    "for i, json_obj in enumerate(yield_latest_report(begin_date, max_num, sleep)):\n",
    "    title = json_obj['title']\n",
    "    time = json_obj['date']\n",
    "    print('[{} / {}] ({}) {}'.format(i+1, max_num, time, title))"
   ]
  },
  {
   "cell_type": "code",
   "execution_count": 6,
   "metadata": {},
   "outputs": [
    {
     "name": "stdout",
     "output_type": "stream",
     "text": [
      "[1 / 10] (February 4, 2019) America's National Defense Strategy and the Paradox of Technology\n",
      "[2 / 10] (February 5, 2019) Developing an Objective, Repeatable Scoring System for a Vulnerability Equities Process\n",
      "[3 / 10] (February 5, 2019) Choosing the Right Social and Emotional Learning Programs and Practices\n",
      "[4 / 10] (February 6, 2019) State of the Union 2019: Insights from RAND\n",
      "[5 / 10] (February 6, 2019) How to Make Roads Safer for Autonomous Vehicles\n",
      "[6 / 10] (February 6, 2019) Hard to Predict Outcome of Second Trump-Kim Summit\n",
      "[7 / 10] (February 7, 2019) How the U.S. Is Thinking About the Quad\n",
      "[8 / 10] (February 8, 2019) How Horizon Scanning Can Give the Military a Technological Edge\n",
      "[9 / 10] (February 8, 2019) The Islamic Republic's Foreign Policy at Forty\n",
      "[10 / 10] (February 8, 2019) The Wall Is Not the Only Answer\n"
     ]
    }
   ],
   "source": [
    "from rand_scraper import yield_latest_blog\n",
    "\n",
    "begin_date = '2018-12-01'\n",
    "max_num = 10\n",
    "sleep = 1.0\n",
    "\n",
    "for i, json_obj in enumerate(yield_latest_blog(begin_date, max_num, sleep)):\n",
    "    title = json_obj['title']\n",
    "    time = json_obj['date']\n",
    "    print('[{} / {}] ({}) {}'.format(i+1, max_num, time, title))"
   ]
  }
 ],
 "metadata": {
  "kernelspec": {
   "display_name": "Python 3",
   "language": "python",
   "name": "python3"
  },
  "language_info": {
   "codemirror_mode": {
    "name": "ipython",
    "version": 3
   },
   "file_extension": ".py",
   "mimetype": "text/x-python",
   "name": "python",
   "nbconvert_exporter": "python",
   "pygments_lexer": "ipython3",
   "version": "3.7.1"
  },
  "varInspector": {
   "cols": {
    "lenName": 16,
    "lenType": 16,
    "lenVar": 40
   },
   "kernels_config": {
    "python": {
     "delete_cmd_postfix": "",
     "delete_cmd_prefix": "del ",
     "library": "var_list.py",
     "varRefreshCmd": "print(var_dic_list())"
    },
    "r": {
     "delete_cmd_postfix": ") ",
     "delete_cmd_prefix": "rm(",
     "library": "var_list.r",
     "varRefreshCmd": "cat(var_dic_list()) "
    }
   },
   "oldHeight": 122.545454,
   "position": {
    "height": "224.545px",
    "left": "1007.45px",
    "right": "20px",
    "top": "139px",
    "width": "371.545px"
   },
   "types_to_exclude": [
    "module",
    "function",
    "builtin_function_or_method",
    "instance",
    "_Feature"
   ],
   "varInspector_section_display": "block",
   "window_display": true
  }
 },
 "nbformat": 4,
 "nbformat_minor": 2
}
