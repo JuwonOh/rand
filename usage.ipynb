{
 "cells": [
  {
   "cell_type": "code",
   "execution_count": 1,
   "metadata": {},
   "outputs": [],
   "source": [
    "import time\n",
    "import rand_scraper"
   ]
  },
  {
   "cell_type": "code",
   "execution_count": 2,
   "metadata": {
    "scrolled": true
   },
   "outputs": [
    {
     "name": "stdout",
     "output_type": "stream",
     "text": [
      "24 report_urls for all report\n"
     ]
    }
   ],
   "source": [
    "from rand_scraper import get_report_urls\n",
    "report_urls = get_report_urls(begin_page=1, end_page=1, verbose=True)\n",
    "print('%d report_urls for all report' % len(report_urls))"
   ]
  },
  {
   "cell_type": "code",
   "execution_count": 3,
   "metadata": {},
   "outputs": [
    {
     "name": "stdout",
     "output_type": "stream",
     "text": [
      "443 report_urls for all report\n"
     ]
    }
   ],
   "source": [
    "from rand_scraper import get_blog_urls\n",
    "blog_urls = get_blog_urls(verbose=True)\n",
    "print('%d report_urls for all report' % len(blog_urls))"
   ]
  },
  {
   "cell_type": "code",
   "execution_count": 4,
   "metadata": {},
   "outputs": [],
   "source": [
    "\n",
    "def parse_report(url):\n",
    "    def parse_author(soup):\n",
    "        author = soup.find('p', class_='authors')\n",
    "        if not author:\n",
    "            return 'no author'\n",
    "        return author.text\n",
    "\n",
    "    def parse_title(soup):\n",
    "        title = soup.find('h1', id='RANDTitleHeadingId').text\n",
    "        if not title:\n",
    "            return ''\n",
    "        return title\n",
    "\n",
    "    def parse_date(soup):\n",
    "        date = soup.find('meta',attrs={'name':\"rand-date\"})['content']\n",
    "        if not date:\n",
    "            return '20190306'\n",
    "        return date\n",
    "\n",
    "    def parse_content(soup):\n",
    "        content = soup.find('div', class_= 'product-main').text\n",
    "        if not content:\n",
    "            return ''\n",
    "        return content\n",
    "\n",
    "    def parse_publication_link(soup):\n",
    "        for a in soup.select('a'):\n",
    "            if '/content/dam/rand/' in a.attrs.get('href', ''):\n",
    "                return a.attrs['href']\n",
    "            if 'external' in a.attrs.get('class', ''):\n",
    "                return 'external article'\n",
    "\n",
    "    soup = get_soup(url)\n",
    "    temp_content_url = parse_publication_link(soup)\n",
    "    if '/content/dam/rand/' in temp_content_url:\n",
    "        if 'https:' not in temp_content_url:\n",
    "            content_url = 'https://www.rand.org' + temp_content_url\n",
    "    else:\n",
    "        content_url = temp_content_url\n",
    "    return {\n",
    "        'url': url,\n",
    "        'title': parse_title(soup),\n",
    "        'date': parse_date(soup),\n",
    "        'author': parse_author(soup),\n",
    "        'abstract': parse_content(soup),\n",
    "        'content_url': content_url\n",
    "    }"
   ]
  },
  {
   "cell_type": "code",
   "execution_count": 5,
   "metadata": {},
   "outputs": [
    {
     "ename": "AttributeError",
     "evalue": "'NoneType' object has no attribute 'find'",
     "output_type": "error",
     "traceback": [
      "\u001b[1;31m---------------------------------------------------------------------------\u001b[0m",
      "\u001b[1;31mAttributeError\u001b[0m                            Traceback (most recent call last)",
      "\u001b[1;32m<ipython-input-5-424e6c1801a5>\u001b[0m in \u001b[0;36m<module>\u001b[1;34m\u001b[0m\n\u001b[0;32m      1\u001b[0m \u001b[1;32mfrom\u001b[0m \u001b[0mrand_scraper\u001b[0m \u001b[1;32mimport\u001b[0m \u001b[0mget_soup\u001b[0m\u001b[1;33m\u001b[0m\u001b[1;33m\u001b[0m\u001b[0m\n\u001b[1;32m----> 2\u001b[1;33m \u001b[0mget_soup\u001b[0m\u001b[1;33m(\u001b[0m\u001b[1;34m'https://www.pacforum.org/programs/pacific-forum/publications/pacnet-newsletter'\u001b[0m\u001b[1;33m)\u001b[0m\u001b[1;33m.\u001b[0m\u001b[0mfind\u001b[0m\u001b[1;33m(\u001b[0m\u001b[1;34m'article'\u001b[0m\u001b[1;33m,\u001b[0m \u001b[0mrole\u001b[0m\u001b[1;33m=\u001b[0m \u001b[1;34m'article'\u001b[0m\u001b[1;33m)\u001b[0m\u001b[1;33m.\u001b[0m\u001b[0mfind\u001b[0m\u001b[1;33m(\u001b[0m\u001b[1;34m'h1'\u001b[0m\u001b[1;33m)\u001b[0m\u001b[1;33m.\u001b[0m\u001b[0mtext\u001b[0m\u001b[1;33m\u001b[0m\u001b[1;33m\u001b[0m\u001b[0m\n\u001b[0m",
      "\u001b[1;31mAttributeError\u001b[0m: 'NoneType' object has no attribute 'find'"
     ]
    }
   ],
   "source": [
    "from rand_scraper import get_soup\n",
    "get_soup('https://www.pacforum.org/programs/pacific-forum/publications/pacnet-newsletter').find('article', role= 'article').find('h1').text"
   ]
  },
  {
   "cell_type": "code",
   "execution_count": null,
   "metadata": {
    "scrolled": true
   },
   "outputs": [],
   "source": [
    "from rand_scraper import parse_page\n",
    "def pprint(json_object):\n",
    "    for k, v in json_object.items():\n",
    "        print('{} : {} ..'.format(k, str(v)[:100]))\n",
    "    print('\\n')\n",
    "\n",
    "SLEEP = 0.5\n",
    "\n",
    "for url in report_urls[:40]:\n",
    "    rjson_object = parse_page(url)\n",
    "    pprint(rjson_object)\n",
    "\n",
    "for url in blog_urls[:1]:\n",
    "    rjson_object = parse_page(url)\n",
    "    pprint(rjson_object)"
   ]
  },
  {
   "cell_type": "code",
   "execution_count": null,
   "metadata": {},
   "outputs": [],
   "source": [
    "from rand_scraper import yield_latest_report\n",
    "\n",
    "begin_date = '2018-12-01'\n",
    "max_num = 10\n",
    "sleep = 1.0\n",
    "\n",
    "for i, json_obj in enumerate(yield_latest_report(begin_date, max_num, sleep)):\n",
    "    title = json_obj['title']\n",
    "    time = json_obj['date']\n",
    "    print('[{} / {}] ({}) {}'.format(i+1, max_num, time, title))"
   ]
  },
  {
   "cell_type": "code",
   "execution_count": null,
   "metadata": {},
   "outputs": [],
   "source": [
    "from rand_scraper import yield_latest_blog\n",
    "\n",
    "begin_date = '2018-12-01'\n",
    "max_num = 10\n",
    "sleep = 1.0\n",
    "\n",
    "for i, json_obj in enumerate(yield_latest_blog(begin_date, max_num, sleep)):\n",
    "    title = json_obj['title']\n",
    "    time = json_obj['date']\n",
    "    print('[{} / {}] ({}) {}'.format(i+1, max_num, time, title))"
   ]
  }
 ],
 "metadata": {
  "kernelspec": {
   "display_name": "Python 3",
   "language": "python",
   "name": "python3"
  },
  "language_info": {
   "codemirror_mode": {
    "name": "ipython",
    "version": 3
   },
   "file_extension": ".py",
   "mimetype": "text/x-python",
   "name": "python",
   "nbconvert_exporter": "python",
   "pygments_lexer": "ipython3",
   "version": "3.7.1"
  },
  "varInspector": {
   "cols": {
    "lenName": 16,
    "lenType": 16,
    "lenVar": 40
   },
   "kernels_config": {
    "python": {
     "delete_cmd_postfix": "",
     "delete_cmd_prefix": "del ",
     "library": "var_list.py",
     "varRefreshCmd": "print(var_dic_list())"
    },
    "r": {
     "delete_cmd_postfix": ") ",
     "delete_cmd_prefix": "rm(",
     "library": "var_list.r",
     "varRefreshCmd": "cat(var_dic_list()) "
    }
   },
   "oldHeight": 202.93800000000002,
   "position": {
    "height": "40px",
    "left": "1007.45px",
    "right": "20px",
    "top": "139px",
    "width": "371.538px"
   },
   "types_to_exclude": [
    "module",
    "function",
    "builtin_function_or_method",
    "instance",
    "_Feature"
   ],
   "varInspector_section_display": "none",
   "window_display": true
  }
 },
 "nbformat": 4,
 "nbformat_minor": 2
}
